{
  "nbformat": 4,
  "nbformat_minor": 0,
  "metadata": {
    "colab": {
      "provenance": [],
      "authorship_tag": "ABX9TyO+ejDmy3uEM2Cqvw8kBtFb",
      "include_colab_link": true
    },
    "kernelspec": {
      "name": "python3",
      "display_name": "Python 3"
    },
    "language_info": {
      "name": "python"
    }
  },
  "cells": [
    {
      "cell_type": "markdown",
      "metadata": {
        "id": "view-in-github",
        "colab_type": "text"
      },
      "source": [
        "<a href=\"https://colab.research.google.com/github/Jepees/GPXMiner-StravaLike/blob/main/Scripts/GPXminer_Colab.ipynb\" target=\"_parent\"><img src=\"https://colab.research.google.com/assets/colab-badge.svg\" alt=\"Open In Colab\"/></a>"
      ]
    },
    {
      "cell_type": "code",
      "execution_count": null,
      "metadata": {
        "id": "v09yJCx2s3ed"
      },
      "outputs": [],
      "source": [
        "!git clone https://github.com/Jepees/GPXMiner-StravaLike.git\n",
        "%cd GPXminer\n",
        "!pip install -r requirements.txt"
      ]
    },
    {
      "cell_type": "code",
      "source": [
        "from google.colab import files\n",
        "uploaded = files.upload()"
      ],
      "metadata": {
        "id": "nDwxSeMXtC_b"
      },
      "execution_count": null,
      "outputs": []
    },
    {
      "cell_type": "code",
      "source": [
        "from GPXMiner import GPXminer\n",
        "\n",
        "# Ambil nama file GPX yang di-upload\n",
        "import os\n",
        "gpx_file = list(uploaded.keys())[0]\n",
        "\n",
        "# Jalankan\n",
        "miner = GPXminer(gpx_file)\n",
        "miner.PostPNGMaker()\n",
        "\n",
        "# Tampilkan gambar\n",
        "from IPython.display import Image as ColabImage\n",
        "ColabImage(filename=f\"Hasil/{miner.project_name}.PNG\")"
      ],
      "metadata": {
        "id": "M8WNFav-tNSC"
      },
      "execution_count": null,
      "outputs": []
    },
    {
      "cell_type": "code",
      "source": [
        "from google.colab import files\n",
        "files.download(f\"Hasil/{miner.project_name}.PNG\")"
      ],
      "metadata": {
        "id": "1XfFuI_8tS6x"
      },
      "execution_count": null,
      "outputs": []
    }
  ]
}