{
  "nbformat": 4,
  "nbformat_minor": 0,
  "metadata": {
    "colab": {
      "provenance": [],
      "authorship_tag": "ABX9TyPldxuqixB3JPhzyr7uxjnq",
      "include_colab_link": true
    },
    "kernelspec": {
      "name": "python3",
      "display_name": "Python 3"
    },
    "language_info": {
      "name": "python"
    }
  },
  "cells": [
    {
      "cell_type": "markdown",
      "metadata": {
        "id": "view-in-github",
        "colab_type": "text"
      },
      "source": [
        "<a href=\"https://colab.research.google.com/github/Jepees/GPXMiner-StravaLike/blob/main/Scripts/GPXminer_Colab.ipynb\" target=\"_parent\"><img src=\"https://colab.research.google.com/assets/colab-badge.svg\" alt=\"Open In Colab\"/></a>"
      ]
    },
    {
      "cell_type": "code",
      "execution_count": null,
      "metadata": {
        "id": "v09yJCx2s3ed"
      },
      "outputs": [],
      "source": [
        "!git clone https://github.com/Jepees/GPXMiner-StravaLike.git\n",
        "%cd GPXMiner-StravaLike\n",
        "!pip install -r requirements.txt"
      ]
    },
    {
      "cell_type": "code",
      "source": [
        "import sys\n",
        "import os\n",
        "import shutil\n",
        "\n",
        "from google.colab import files"
      ],
      "metadata": {
        "id": "XgNiOqC06Cp8"
      },
      "execution_count": 2,
      "outputs": []
    },
    {
      "cell_type": "code",
      "source": [
        "uploaded = files.upload()\n",
        "\n",
        "# Pastikan folder tujuan ada\n",
        "os.makedirs(\"/content/GPXMiner-StravaLike/GPX_Files\", exist_ok=True)\n",
        "\n",
        "# Ambil nama file hasil upload\n",
        "gpx_file = list(uploaded.keys())[0]\n",
        "\n",
        "# Pindahkan\n",
        "shutil.move(gpx_file, f\"/content/GPXMiner-StravaLike/GPX_Files/{gpx_file}\")"
      ],
      "metadata": {
        "id": "nDwxSeMXtC_b"
      },
      "execution_count": null,
      "outputs": []
    },
    {
      "cell_type": "code",
      "source": [
        "sys.path.append('/content/GPXMiner-StravaLike/Scripts')\n",
        "from GPXMiner import GPXminer\n",
        "\n",
        "# Ambil nama file GPX yang di-upload\n",
        "import os\n",
        "gpx_file = f\"/content/GPXMiner-StravaLike/GPX_Files/{gpx_file}\"\n",
        "\n",
        "# Jalankan\n",
        "miner = GPXminer(gpx_file)\n",
        "miner.PostPNGMaker()\n",
        "\n",
        "# Tampilkan gambar\n",
        "from IPython.display import Image as ColabImage\n",
        "ColabImage(filename=f\"Hasil/{miner.project_name}.PNG\")"
      ],
      "metadata": {
        "id": "M8WNFav-tNSC"
      },
      "execution_count": null,
      "outputs": []
    },
    {
      "cell_type": "code",
      "source": [
        "from google.colab import files\n",
        "files.download(f\"Hasil/{miner.project_name}.PNG\")"
      ],
      "metadata": {
        "id": "1XfFuI_8tS6x",
        "colab": {
          "base_uri": "https://localhost:8080/",
          "height": 17
        },
        "outputId": "3625c287-e274-40dd-acb2-87358e44133e"
      },
      "execution_count": 5,
      "outputs": [
        {
          "output_type": "display_data",
          "data": {
            "text/plain": [
              "<IPython.core.display.Javascript object>"
            ],
            "application/javascript": [
              "\n",
              "    async function download(id, filename, size) {\n",
              "      if (!google.colab.kernel.accessAllowed) {\n",
              "        return;\n",
              "      }\n",
              "      const div = document.createElement('div');\n",
              "      const label = document.createElement('label');\n",
              "      label.textContent = `Downloading \"${filename}\": `;\n",
              "      div.appendChild(label);\n",
              "      const progress = document.createElement('progress');\n",
              "      progress.max = size;\n",
              "      div.appendChild(progress);\n",
              "      document.body.appendChild(div);\n",
              "\n",
              "      const buffers = [];\n",
              "      let downloaded = 0;\n",
              "\n",
              "      const channel = await google.colab.kernel.comms.open(id);\n",
              "      // Send a message to notify the kernel that we're ready.\n",
              "      channel.send({})\n",
              "\n",
              "      for await (const message of channel.messages) {\n",
              "        // Send a message to notify the kernel that we're ready.\n",
              "        channel.send({})\n",
              "        if (message.buffers) {\n",
              "          for (const buffer of message.buffers) {\n",
              "            buffers.push(buffer);\n",
              "            downloaded += buffer.byteLength;\n",
              "            progress.value = downloaded;\n",
              "          }\n",
              "        }\n",
              "      }\n",
              "      const blob = new Blob(buffers, {type: 'application/binary'});\n",
              "      const a = document.createElement('a');\n",
              "      a.href = window.URL.createObjectURL(blob);\n",
              "      a.download = filename;\n",
              "      div.appendChild(a);\n",
              "      a.click();\n",
              "      div.remove();\n",
              "    }\n",
              "  "
            ]
          },
          "metadata": {}
        },
        {
          "output_type": "display_data",
          "data": {
            "text/plain": [
              "<IPython.core.display.Javascript object>"
            ],
            "application/javascript": [
              "download(\"download_cbbc7bb8-89b1-4f54-a782-83768e1d2056\", \"Afternoon_Run (1).PNG\", 60080)"
            ]
          },
          "metadata": {}
        }
      ]
    },
    {
      "cell_type": "code",
      "source": [],
      "metadata": {
        "id": "_zUan6tyCCMI"
      },
      "execution_count": null,
      "outputs": []
    }
  ]
}