{
 "cells": [
  {
   "cell_type": "code",
   "execution_count": 18,
   "id": "6560dff3",
   "metadata": {},
   "outputs": [
    {
     "name": "stdout",
     "output_type": "stream",
     "text": [
      "The autoreload extension is already loaded. To reload it, use:\n",
      "  %reload_ext autoreload\n"
     ]
    }
   ],
   "source": [
    "%load_ext autoreload\n",
    "%autoreload 2"
   ]
  },
  {
   "cell_type": "code",
   "execution_count": 19,
   "id": "b8ca6598",
   "metadata": {},
   "outputs": [],
   "source": [
    "from GPXMiner import GPXminer"
   ]
  },
  {
   "cell_type": "code",
   "execution_count": null,
   "id": "5437df74",
   "metadata": {},
   "outputs": [],
   "source": [
    "gpx_path = #ur GPX path\n",
    "lari = GPXminer(gpx_path)\n",
    "lari.PostPNGMaker()\n"
   ]
  },
  {
   "cell_type": "code",
   "execution_count": null,
   "id": "191fbb94",
   "metadata": {},
   "outputs": [],
   "source": [
    "# Untuk melihat map viw track kamu\n",
    "lari_1.TrackViewer()"
   ]
  }
 ],
 "metadata": {
  "kernelspec": {
   "display_name": "Python 3",
   "language": "python",
   "name": "python3"
  },
  "language_info": {
   "codemirror_mode": {
    "name": "ipython",
    "version": 3
   },
   "file_extension": ".py",
   "mimetype": "text/x-python",
   "name": "python",
   "nbconvert_exporter": "python",
   "pygments_lexer": "ipython3",
   "version": "3.10.13"
  }
 },
 "nbformat": 4,
 "nbformat_minor": 5
}
